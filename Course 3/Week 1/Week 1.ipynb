{
 "cells": [
  {
   "cell_type": "code",
   "execution_count": 1,
   "metadata": {},
   "outputs": [],
   "source": [
    "import pandas as pd\n",
    "import numpy as np\n",
    "import matplotlib.pyplot as plt"
   ]
  },
  {
   "cell_type": "code",
   "execution_count": 2,
   "metadata": {},
   "outputs": [
    {
     "data": {
      "text/html": [
       "<div>\n",
       "<style scoped>\n",
       "    .dataframe tbody tr th:only-of-type {\n",
       "        vertical-align: middle;\n",
       "    }\n",
       "\n",
       "    .dataframe tbody tr th {\n",
       "        vertical-align: top;\n",
       "    }\n",
       "\n",
       "    .dataframe thead th {\n",
       "        text-align: right;\n",
       "    }\n",
       "</style>\n",
       "<table border=\"1\" class=\"dataframe\">\n",
       "  <thead>\n",
       "    <tr style=\"text-align: right;\">\n",
       "      <th></th>\n",
       "      <th>name</th>\n",
       "      <th>review</th>\n",
       "      <th>rating</th>\n",
       "    </tr>\n",
       "  </thead>\n",
       "  <tbody>\n",
       "    <tr>\n",
       "      <th>0</th>\n",
       "      <td>Planetwise Flannel Wipes</td>\n",
       "      <td>These flannel wipes are OK, but in my opinion ...</td>\n",
       "      <td>3</td>\n",
       "    </tr>\n",
       "    <tr>\n",
       "      <th>1</th>\n",
       "      <td>Planetwise Wipe Pouch</td>\n",
       "      <td>it came early and was not disappointed. i love...</td>\n",
       "      <td>5</td>\n",
       "    </tr>\n",
       "    <tr>\n",
       "      <th>2</th>\n",
       "      <td>Annas Dream Full Quilt with 2 Shams</td>\n",
       "      <td>Very soft and comfortable and warmer than it l...</td>\n",
       "      <td>5</td>\n",
       "    </tr>\n",
       "    <tr>\n",
       "      <th>3</th>\n",
       "      <td>Stop Pacifier Sucking without tears with Thumb...</td>\n",
       "      <td>This is a product well worth the purchase.  I ...</td>\n",
       "      <td>5</td>\n",
       "    </tr>\n",
       "    <tr>\n",
       "      <th>4</th>\n",
       "      <td>Stop Pacifier Sucking without tears with Thumb...</td>\n",
       "      <td>All of my kids have cried non-stop when I trie...</td>\n",
       "      <td>5</td>\n",
       "    </tr>\n",
       "  </tbody>\n",
       "</table>\n",
       "</div>"
      ],
      "text/plain": [
       "                                                name  \\\n",
       "0                           Planetwise Flannel Wipes   \n",
       "1                              Planetwise Wipe Pouch   \n",
       "2                Annas Dream Full Quilt with 2 Shams   \n",
       "3  Stop Pacifier Sucking without tears with Thumb...   \n",
       "4  Stop Pacifier Sucking without tears with Thumb...   \n",
       "\n",
       "                                              review  rating  \n",
       "0  These flannel wipes are OK, but in my opinion ...       3  \n",
       "1  it came early and was not disappointed. i love...       5  \n",
       "2  Very soft and comfortable and warmer than it l...       5  \n",
       "3  This is a product well worth the purchase.  I ...       5  \n",
       "4  All of my kids have cried non-stop when I trie...       5  "
      ]
     },
     "execution_count": 2,
     "metadata": {},
     "output_type": "execute_result"
    }
   ],
   "source": [
    "products=pd.read_csv('amazon_baby.csv')\n",
    "products.head()"
   ]
  },
  {
   "cell_type": "code",
   "execution_count": 3,
   "metadata": {},
   "outputs": [
    {
     "name": "stdout",
     "output_type": "stream",
     "text": [
      "<class 'pandas.core.frame.DataFrame'>\n",
      "RangeIndex: 183531 entries, 0 to 183530\n",
      "Data columns (total 3 columns):\n",
      " #   Column  Non-Null Count   Dtype \n",
      "---  ------  --------------   ----- \n",
      " 0   name    183213 non-null  object\n",
      " 1   review  182702 non-null  object\n",
      " 2   rating  183531 non-null  int64 \n",
      "dtypes: int64(1), object(2)\n",
      "memory usage: 4.2+ MB\n"
     ]
    }
   ],
   "source": [
    "products.info()"
   ]
  },
  {
   "cell_type": "markdown",
   "metadata": {},
   "source": [
    "## Perform text cleaning"
   ]
  },
  {
   "cell_type": "code",
   "execution_count": 4,
   "metadata": {},
   "outputs": [],
   "source": [
    "products = products.fillna({'review':' '})\n"
   ]
  },
  {
   "cell_type": "code",
   "execution_count": 5,
   "metadata": {},
   "outputs": [],
   "source": [
    "def remove_punctuation(text):\n",
    "    import string\n",
    "    return text.translate( string.punctuation) \n",
    "\n",
    "products['review_clean'] = products['review'].apply(remove_punctuation)"
   ]
  },
  {
   "cell_type": "markdown",
   "metadata": {},
   "source": [
    "## Extract Sentiments"
   ]
  },
  {
   "cell_type": "code",
   "execution_count": 6,
   "metadata": {},
   "outputs": [],
   "source": [
    "products=products[products['rating']!=3]"
   ]
  },
  {
   "cell_type": "code",
   "execution_count": 7,
   "metadata": {},
   "outputs": [
    {
     "name": "stdout",
     "output_type": "stream",
     "text": [
      "166752\n"
     ]
    },
    {
     "data": {
      "text/html": [
       "<div>\n",
       "<style scoped>\n",
       "    .dataframe tbody tr th:only-of-type {\n",
       "        vertical-align: middle;\n",
       "    }\n",
       "\n",
       "    .dataframe tbody tr th {\n",
       "        vertical-align: top;\n",
       "    }\n",
       "\n",
       "    .dataframe thead th {\n",
       "        text-align: right;\n",
       "    }\n",
       "</style>\n",
       "<table border=\"1\" class=\"dataframe\">\n",
       "  <thead>\n",
       "    <tr style=\"text-align: right;\">\n",
       "      <th></th>\n",
       "      <th>name</th>\n",
       "      <th>review</th>\n",
       "      <th>rating</th>\n",
       "      <th>review_clean</th>\n",
       "      <th>sentiment</th>\n",
       "    </tr>\n",
       "  </thead>\n",
       "  <tbody>\n",
       "    <tr>\n",
       "      <th>1</th>\n",
       "      <td>Planetwise Wipe Pouch</td>\n",
       "      <td>it came early and was not disappointed. i love...</td>\n",
       "      <td>5</td>\n",
       "      <td>it came early and was not disappointed. i love...</td>\n",
       "      <td>1</td>\n",
       "    </tr>\n",
       "    <tr>\n",
       "      <th>2</th>\n",
       "      <td>Annas Dream Full Quilt with 2 Shams</td>\n",
       "      <td>Very soft and comfortable and warmer than it l...</td>\n",
       "      <td>5</td>\n",
       "      <td>Very soft and comfortable and warmer than it l...</td>\n",
       "      <td>1</td>\n",
       "    </tr>\n",
       "    <tr>\n",
       "      <th>3</th>\n",
       "      <td>Stop Pacifier Sucking without tears with Thumb...</td>\n",
       "      <td>This is a product well worth the purchase.  I ...</td>\n",
       "      <td>5</td>\n",
       "      <td>This is a product well worth the purchase.  I ...</td>\n",
       "      <td>1</td>\n",
       "    </tr>\n",
       "    <tr>\n",
       "      <th>4</th>\n",
       "      <td>Stop Pacifier Sucking without tears with Thumb...</td>\n",
       "      <td>All of my kids have cried non-stop when I trie...</td>\n",
       "      <td>5</td>\n",
       "      <td>All of my kids have cried non-stop when I trie...</td>\n",
       "      <td>1</td>\n",
       "    </tr>\n",
       "    <tr>\n",
       "      <th>5</th>\n",
       "      <td>Stop Pacifier Sucking without tears with Thumb...</td>\n",
       "      <td>When the Binky Fairy came to our house, we did...</td>\n",
       "      <td>5</td>\n",
       "      <td>When the Binky Fairy came to our house, we did...</td>\n",
       "      <td>1</td>\n",
       "    </tr>\n",
       "  </tbody>\n",
       "</table>\n",
       "</div>"
      ],
      "text/plain": [
       "                                                name  \\\n",
       "1                              Planetwise Wipe Pouch   \n",
       "2                Annas Dream Full Quilt with 2 Shams   \n",
       "3  Stop Pacifier Sucking without tears with Thumb...   \n",
       "4  Stop Pacifier Sucking without tears with Thumb...   \n",
       "5  Stop Pacifier Sucking without tears with Thumb...   \n",
       "\n",
       "                                              review  rating  \\\n",
       "1  it came early and was not disappointed. i love...       5   \n",
       "2  Very soft and comfortable and warmer than it l...       5   \n",
       "3  This is a product well worth the purchase.  I ...       5   \n",
       "4  All of my kids have cried non-stop when I trie...       5   \n",
       "5  When the Binky Fairy came to our house, we did...       5   \n",
       "\n",
       "                                        review_clean  sentiment  \n",
       "1  it came early and was not disappointed. i love...          1  \n",
       "2  Very soft and comfortable and warmer than it l...          1  \n",
       "3  This is a product well worth the purchase.  I ...          1  \n",
       "4  All of my kids have cried non-stop when I trie...          1  \n",
       "5  When the Binky Fairy came to our house, we did...          1  "
      ]
     },
     "execution_count": 7,
     "metadata": {},
     "output_type": "execute_result"
    }
   ],
   "source": [
    "\n",
    "products['sentiment'] = products['rating'].apply(lambda rating : +1 if rating > 3 else -1)\n",
    "print(len(products))\n",
    "products.head()\n"
   ]
  },
  {
   "cell_type": "code",
   "execution_count": 8,
   "metadata": {},
   "outputs": [
    {
     "name": "stdout",
     "output_type": "stream",
     "text": [
      "133402\n",
      "33350\n"
     ]
    }
   ],
   "source": [
    "train_data=products.sample(frac=0.8,random_state=200) \n",
    "test_data=products.drop(train_data.index)\n",
    "print(len(train_data))\n",
    "print(len(test_data))"
   ]
  },
  {
   "cell_type": "code",
   "execution_count": 33,
   "metadata": {},
   "outputs": [],
   "source": [
    "from sklearn.feature_extraction.text import CountVectorizer\n",
    "\n",
    "vectorizer = CountVectorizer(token_pattern=r'\\b\\w+\\b')\n",
    "     # Use this token pattern to keep single-letter words\n",
    "# First, learn vocabulary from the training data and assign columns to words\n",
    "# Then convert the training data into a sparse matrix\n",
    "train_matrix = vectorizer.fit_transform(train_data['review_clean'])\n",
    "# Second, convert the test data into a sparse matrix, using the same word-column mapping\n",
    "test_matrix = vectorizer.transform(test_data['review_clean'])"
   ]
  },
  {
   "cell_type": "code",
   "execution_count": 10,
   "metadata": {},
   "outputs": [
    {
     "name": "stderr",
     "output_type": "stream",
     "text": [
      "D:\\conda\\lib\\site-packages\\sklearn\\linear_model\\_logistic.py:940: ConvergenceWarning: lbfgs failed to converge (status=1):\n",
      "STOP: TOTAL NO. of ITERATIONS REACHED LIMIT.\n",
      "\n",
      "Increase the number of iterations (max_iter) or scale the data as shown in:\n",
      "    https://scikit-learn.org/stable/modules/preprocessing.html\n",
      "Please also refer to the documentation for alternative solver options:\n",
      "    https://scikit-learn.org/stable/modules/linear_model.html#logistic-regression\n",
      "  extra_warning_msg=_LOGISTIC_SOLVER_CONVERGENCE_MSG)\n"
     ]
    },
    {
     "data": {
      "text/plain": [
       "LogisticRegression(C=1.0, class_weight=None, dual=False, fit_intercept=True,\n",
       "                   intercept_scaling=1, l1_ratio=None, max_iter=100,\n",
       "                   multi_class='auto', n_jobs=None, penalty='l2',\n",
       "                   random_state=None, solver='lbfgs', tol=0.0001, verbose=0,\n",
       "                   warm_start=False)"
      ]
     },
     "execution_count": 10,
     "metadata": {},
     "output_type": "execute_result"
    }
   ],
   "source": [
    "from sklearn.linear_model import LogisticRegression\n",
    "sentiment_model=LogisticRegression()\n",
    "sentiment_model.fit(train_matrix,train_data['sentiment'])"
   ]
  },
  {
   "cell_type": "code",
   "execution_count": 11,
   "metadata": {},
   "outputs": [],
   "source": [
    "array=np.sum(np.array(sentiment_model.coef_) >= 0, axis=0)"
   ]
  },
  {
   "cell_type": "code",
   "execution_count": 12,
   "metadata": {},
   "outputs": [
    {
     "data": {
      "text/plain": [
       "(57326,)"
      ]
     },
     "execution_count": 12,
     "metadata": {},
     "output_type": "execute_result"
    }
   ],
   "source": [
    "array.shape"
   ]
  },
  {
   "cell_type": "code",
   "execution_count": 13,
   "metadata": {},
   "outputs": [
    {
     "name": "stdout",
     "output_type": "stream",
     "text": [
      "39975\n"
     ]
    }
   ],
   "source": [
    "count=0\n",
    "for i in range (array.shape[0]):\n",
    "    if array[i]==1:\n",
    "        count=count+1\n",
    "print(count)"
   ]
  },
  {
   "cell_type": "code",
   "execution_count": 14,
   "metadata": {},
   "outputs": [
    {
     "data": {
      "text/html": [
       "<div>\n",
       "<style scoped>\n",
       "    .dataframe tbody tr th:only-of-type {\n",
       "        vertical-align: middle;\n",
       "    }\n",
       "\n",
       "    .dataframe tbody tr th {\n",
       "        vertical-align: top;\n",
       "    }\n",
       "\n",
       "    .dataframe thead th {\n",
       "        text-align: right;\n",
       "    }\n",
       "</style>\n",
       "<table border=\"1\" class=\"dataframe\">\n",
       "  <thead>\n",
       "    <tr style=\"text-align: right;\">\n",
       "      <th></th>\n",
       "      <th>name</th>\n",
       "      <th>review</th>\n",
       "      <th>rating</th>\n",
       "      <th>review_clean</th>\n",
       "      <th>sentiment</th>\n",
       "    </tr>\n",
       "  </thead>\n",
       "  <tbody>\n",
       "    <tr>\n",
       "      <th>66</th>\n",
       "      <td>My Kindergarten Year - A Keepsake Book</td>\n",
       "      <td>I'm so glad I stumbled upon these gem. My son ...</td>\n",
       "      <td>5</td>\n",
       "      <td>I'm so glad I stumbled upon these gem. My son ...</td>\n",
       "      <td>1</td>\n",
       "    </tr>\n",
       "    <tr>\n",
       "      <th>75</th>\n",
       "      <td>Reusable Flannel (15) Baby Wipes 100% Cotton B...</td>\n",
       "      <td>I love these wipes.  They are so simple and so...</td>\n",
       "      <td>5</td>\n",
       "      <td>I love these wipes.  They are so simple and so...</td>\n",
       "      <td>1</td>\n",
       "    </tr>\n",
       "    <tr>\n",
       "      <th>77</th>\n",
       "      <td>Cloth Diaper Pins Stainless Steel Traditional ...</td>\n",
       "      <td>We bought the pins as my 6 year old Autistic s...</td>\n",
       "      <td>4</td>\n",
       "      <td>We bought the pins as my 6 year old Autistic s...</td>\n",
       "      <td>1</td>\n",
       "    </tr>\n",
       "  </tbody>\n",
       "</table>\n",
       "</div>"
      ],
      "text/plain": [
       "                                                 name  \\\n",
       "66             My Kindergarten Year - A Keepsake Book   \n",
       "75  Reusable Flannel (15) Baby Wipes 100% Cotton B...   \n",
       "77  Cloth Diaper Pins Stainless Steel Traditional ...   \n",
       "\n",
       "                                               review  rating  \\\n",
       "66  I'm so glad I stumbled upon these gem. My son ...       5   \n",
       "75  I love these wipes.  They are so simple and so...       5   \n",
       "77  We bought the pins as my 6 year old Autistic s...       4   \n",
       "\n",
       "                                         review_clean  sentiment  \n",
       "66  I'm so glad I stumbled upon these gem. My son ...          1  \n",
       "75  I love these wipes.  They are so simple and so...          1  \n",
       "77  We bought the pins as my 6 year old Autistic s...          1  "
      ]
     },
     "execution_count": 14,
     "metadata": {},
     "output_type": "execute_result"
    }
   ],
   "source": [
    "sample_test_data = test_data[10:13]\n",
    "sample_test_matrix=test_matrix[10:13]\n",
    "sample_test_data"
   ]
  },
  {
   "cell_type": "code",
   "execution_count": 15,
   "metadata": {},
   "outputs": [
    {
     "data": {
      "text/plain": [
       "\"I'm so glad I stumbled upon these gem. My son has already started answering questions and I think it will be a great memory to look back years later to see how he answered the questions.\""
      ]
     },
     "execution_count": 15,
     "metadata": {},
     "output_type": "execute_result"
    }
   ],
   "source": [
    "sample_test_data.iloc[0,1]"
   ]
  },
  {
   "cell_type": "code",
   "execution_count": 16,
   "metadata": {},
   "outputs": [
    {
     "data": {
      "text/plain": [
       "\"I love these wipes.  They are so simple and soft and they are a great price for reusable wipes.  They actually get my baby clean and dry during diaper changes.  And I know that I'll find a million other uses for them after our diaper days are done.  I'm ordering more of them right now!\""
      ]
     },
     "execution_count": 16,
     "metadata": {},
     "output_type": "execute_result"
    }
   ],
   "source": [
    "sample_test_data.iloc[1,1]"
   ]
  },
  {
   "cell_type": "code",
   "execution_count": 17,
   "metadata": {},
   "outputs": [
    {
     "data": {
      "text/plain": [
       "\"We bought the pins as my 6 year old Autistic son was able to open or break open normal safety pins we needed to use for his night time clothes.  These new pins are significantly more sturdy and he hasn't learned how to open them and only once has he broken one open.  I seem to recall that their shipping price was more than a bit on the high side of reasonable though given the size of the package...\""
      ]
     },
     "execution_count": 17,
     "metadata": {},
     "output_type": "execute_result"
    }
   ],
   "source": [
    "sample_test_data.iloc[2,1]"
   ]
  },
  {
   "cell_type": "code",
   "execution_count": 18,
   "metadata": {},
   "outputs": [
    {
     "data": {
      "text/plain": [
       "array([1, 1, 1], dtype=int64)"
      ]
     },
     "execution_count": 18,
     "metadata": {},
     "output_type": "execute_result"
    }
   ],
   "source": [
    "scores=sentiment_model.predict(sample_test_matrix)\n",
    "scores"
   ]
  },
  {
   "cell_type": "code",
   "execution_count": 19,
   "metadata": {},
   "outputs": [
    {
     "data": {
      "text/plain": [
       "[0.7310585786300049, 0.7310585786300049, 0.7310585786300049]"
      ]
     },
     "execution_count": 19,
     "metadata": {},
     "output_type": "execute_result"
    }
   ],
   "source": [
    "import math\n",
    "def calculate_proba(scores):\n",
    "    \"\"\" Calculate the probability predictions from the scores.\n",
    "    \"\"\"\n",
    "    proba_preds = []\n",
    "    for score in scores:\n",
    "        proba_pred =  1 / (1 + math.exp(-score))\n",
    "        proba_preds.append(proba_pred)\n",
    "    return proba_preds\n",
    "\n",
    "calculate_proba(scores)"
   ]
  },
  {
   "cell_type": "code",
   "execution_count": 20,
   "metadata": {},
   "outputs": [
    {
     "data": {
      "text/plain": [
       "array([[6.82651078e-03, 9.93173489e-01],\n",
       "       [6.14553475e-04, 9.99385447e-01],\n",
       "       [2.50576329e-03, 9.97494237e-01]])"
      ]
     },
     "execution_count": 20,
     "metadata": {},
     "output_type": "execute_result"
    }
   ],
   "source": [
    "probas = sentiment_model.predict_proba(sample_test_matrix)\n",
    "probas"
   ]
  },
  {
   "cell_type": "code",
   "execution_count": 21,
   "metadata": {},
   "outputs": [],
   "source": [
    "probabilities=sentiment_model.predict_proba(test_matrix)\n",
    "test_data['probability']=probabilities[:,1]"
   ]
  },
  {
   "cell_type": "code",
   "execution_count": 22,
   "metadata": {},
   "outputs": [
    {
     "name": "stdout",
     "output_type": "stream",
     "text": [
      "1.0\n",
      "1.2676921814169826e-20\n"
     ]
    }
   ],
   "source": [
    "print(probabilities[:,1].max())\n",
    "print(probabilities[:,1].min())"
   ]
  },
  {
   "cell_type": "code",
   "execution_count": 23,
   "metadata": {},
   "outputs": [
    {
     "data": {
      "text/html": [
       "<div>\n",
       "<style scoped>\n",
       "    .dataframe tbody tr th:only-of-type {\n",
       "        vertical-align: middle;\n",
       "    }\n",
       "\n",
       "    .dataframe tbody tr th {\n",
       "        vertical-align: top;\n",
       "    }\n",
       "\n",
       "    .dataframe thead th {\n",
       "        text-align: right;\n",
       "    }\n",
       "</style>\n",
       "<table border=\"1\" class=\"dataframe\">\n",
       "  <thead>\n",
       "    <tr style=\"text-align: right;\">\n",
       "      <th></th>\n",
       "      <th>name</th>\n",
       "      <th>review</th>\n",
       "      <th>rating</th>\n",
       "      <th>review_clean</th>\n",
       "      <th>sentiment</th>\n",
       "      <th>probability</th>\n",
       "    </tr>\n",
       "  </thead>\n",
       "  <tbody>\n",
       "    <tr>\n",
       "      <th>1</th>\n",
       "      <td>Planetwise Wipe Pouch</td>\n",
       "      <td>it came early and was not disappointed. i love...</td>\n",
       "      <td>5</td>\n",
       "      <td>it came early and was not disappointed. i love...</td>\n",
       "      <td>1</td>\n",
       "      <td>0.876889</td>\n",
       "    </tr>\n",
       "    <tr>\n",
       "      <th>5</th>\n",
       "      <td>Stop Pacifier Sucking without tears with Thumb...</td>\n",
       "      <td>When the Binky Fairy came to our house, we did...</td>\n",
       "      <td>5</td>\n",
       "      <td>When the Binky Fairy came to our house, we did...</td>\n",
       "      <td>1</td>\n",
       "      <td>0.999968</td>\n",
       "    </tr>\n",
       "    <tr>\n",
       "      <th>10</th>\n",
       "      <td>Baby Tracker&amp;reg; - Daily Childcare Journal, S...</td>\n",
       "      <td>I love this journal and our nanny uses it ever...</td>\n",
       "      <td>4</td>\n",
       "      <td>I love this journal and our nanny uses it ever...</td>\n",
       "      <td>1</td>\n",
       "      <td>0.999999</td>\n",
       "    </tr>\n",
       "    <tr>\n",
       "      <th>15</th>\n",
       "      <td>Nature's Lullabies First Year Sticker Calendar</td>\n",
       "      <td>I bought this calender for myself for my secon...</td>\n",
       "      <td>4</td>\n",
       "      <td>I bought this calender for myself for my secon...</td>\n",
       "      <td>1</td>\n",
       "      <td>0.999548</td>\n",
       "    </tr>\n",
       "    <tr>\n",
       "      <th>26</th>\n",
       "      <td>Baby's First Journal - Green</td>\n",
       "      <td>Extremely useful! As a new mom, tired and inex...</td>\n",
       "      <td>5</td>\n",
       "      <td>Extremely useful! As a new mom, tired and inex...</td>\n",
       "      <td>1</td>\n",
       "      <td>0.981855</td>\n",
       "    </tr>\n",
       "  </tbody>\n",
       "</table>\n",
       "</div>"
      ],
      "text/plain": [
       "                                                 name  \\\n",
       "1                               Planetwise Wipe Pouch   \n",
       "5   Stop Pacifier Sucking without tears with Thumb...   \n",
       "10  Baby Tracker&reg; - Daily Childcare Journal, S...   \n",
       "15     Nature's Lullabies First Year Sticker Calendar   \n",
       "26                       Baby's First Journal - Green   \n",
       "\n",
       "                                               review  rating  \\\n",
       "1   it came early and was not disappointed. i love...       5   \n",
       "5   When the Binky Fairy came to our house, we did...       5   \n",
       "10  I love this journal and our nanny uses it ever...       4   \n",
       "15  I bought this calender for myself for my secon...       4   \n",
       "26  Extremely useful! As a new mom, tired and inex...       5   \n",
       "\n",
       "                                         review_clean  sentiment  probability  \n",
       "1   it came early and was not disappointed. i love...          1     0.876889  \n",
       "5   When the Binky Fairy came to our house, we did...          1     0.999968  \n",
       "10  I love this journal and our nanny uses it ever...          1     0.999999  \n",
       "15  I bought this calender for myself for my secon...          1     0.999548  \n",
       "26  Extremely useful! As a new mom, tired and inex...          1     0.981855  "
      ]
     },
     "execution_count": 23,
     "metadata": {},
     "output_type": "execute_result"
    }
   ],
   "source": [
    "test_data.head()"
   ]
  },
  {
   "cell_type": "code",
   "execution_count": 25,
   "metadata": {},
   "outputs": [
    {
     "data": {
      "text/html": [
       "<div>\n",
       "<style scoped>\n",
       "    .dataframe tbody tr th:only-of-type {\n",
       "        vertical-align: middle;\n",
       "    }\n",
       "\n",
       "    .dataframe tbody tr th {\n",
       "        vertical-align: top;\n",
       "    }\n",
       "\n",
       "    .dataframe thead th {\n",
       "        text-align: right;\n",
       "    }\n",
       "</style>\n",
       "<table border=\"1\" class=\"dataframe\">\n",
       "  <thead>\n",
       "    <tr style=\"text-align: right;\">\n",
       "      <th></th>\n",
       "      <th>name</th>\n",
       "      <th>review</th>\n",
       "      <th>rating</th>\n",
       "      <th>review_clean</th>\n",
       "      <th>sentiment</th>\n",
       "      <th>probability</th>\n",
       "    </tr>\n",
       "  </thead>\n",
       "  <tbody>\n",
       "    <tr>\n",
       "      <th>168086</th>\n",
       "      <td>Buttons Cloth Diaper Cover - One Size - 8 Colo...</td>\n",
       "      <td>Buttons vs. Best Bottoms reviewFirst thing I w...</td>\n",
       "      <td>5</td>\n",
       "      <td>Buttons vs. Best Bottoms reviewFirst thing I w...</td>\n",
       "      <td>1</td>\n",
       "      <td>1.0</td>\n",
       "    </tr>\n",
       "    <tr>\n",
       "      <th>88659</th>\n",
       "      <td>ERGObaby Original Baby Carrier, Galaxy Grey</td>\n",
       "      <td>We purchased this carrier after a recommendati...</td>\n",
       "      <td>5</td>\n",
       "      <td>We purchased this carrier after a recommendati...</td>\n",
       "      <td>1</td>\n",
       "      <td>1.0</td>\n",
       "    </tr>\n",
       "    <tr>\n",
       "      <th>109197</th>\n",
       "      <td>Britax Boulevard 70 Convertible Car Seat (Prev...</td>\n",
       "      <td>A little background on me: I have three kids (...</td>\n",
       "      <td>5</td>\n",
       "      <td>A little background on me: I have three kids (...</td>\n",
       "      <td>1</td>\n",
       "      <td>1.0</td>\n",
       "    </tr>\n",
       "    <tr>\n",
       "      <th>147975</th>\n",
       "      <td>Baby Jogger City Mini GT Single Stroller, Shad...</td>\n",
       "      <td>Let me start by saying that I have gone throug...</td>\n",
       "      <td>5</td>\n",
       "      <td>Let me start by saying that I have gone throug...</td>\n",
       "      <td>1</td>\n",
       "      <td>1.0</td>\n",
       "    </tr>\n",
       "    <tr>\n",
       "      <th>94921</th>\n",
       "      <td>Baby Jogger Summit XC Single Stroller, Red/Black</td>\n",
       "      <td>EDIT 10/1//2011:  Just wanted to add that I ha...</td>\n",
       "      <td>5</td>\n",
       "      <td>EDIT 10/1//2011:  Just wanted to add that I ha...</td>\n",
       "      <td>1</td>\n",
       "      <td>1.0</td>\n",
       "    </tr>\n",
       "    <tr>\n",
       "      <th>140780</th>\n",
       "      <td>Diono RadianR100 Convertible Car Seat, Dune</td>\n",
       "      <td>i bought this when the seat was owned by Sunsh...</td>\n",
       "      <td>5</td>\n",
       "      <td>i bought this when the seat was owned by Sunsh...</td>\n",
       "      <td>1</td>\n",
       "      <td>1.0</td>\n",
       "    </tr>\n",
       "    <tr>\n",
       "      <th>69511</th>\n",
       "      <td>Joovy Ergo Caboose Tandem Stroller, Black</td>\n",
       "      <td>I've had this stroller for a little more than ...</td>\n",
       "      <td>5</td>\n",
       "      <td>I've had this stroller for a little more than ...</td>\n",
       "      <td>1</td>\n",
       "      <td>1.0</td>\n",
       "    </tr>\n",
       "    <tr>\n",
       "      <th>116083</th>\n",
       "      <td>Joovy Ergo Caboose Tandem Stroller Black</td>\n",
       "      <td>I've had this stroller for a little more than ...</td>\n",
       "      <td>5</td>\n",
       "      <td>I've had this stroller for a little more than ...</td>\n",
       "      <td>1</td>\n",
       "      <td>1.0</td>\n",
       "    </tr>\n",
       "    <tr>\n",
       "      <th>109122</th>\n",
       "      <td>Britax Marathon 70 Convertible Car Seat (Previ...</td>\n",
       "      <td>I have been using this version of the Britax M...</td>\n",
       "      <td>5</td>\n",
       "      <td>I have been using this version of the Britax M...</td>\n",
       "      <td>1</td>\n",
       "      <td>1.0</td>\n",
       "    </tr>\n",
       "    <tr>\n",
       "      <th>106455</th>\n",
       "      <td>Quinny Senzz 2011 Fashion Stroller, Star</td>\n",
       "      <td>I am very pleased overall with the Quinny Senz...</td>\n",
       "      <td>4</td>\n",
       "      <td>I am very pleased overall with the Quinny Senz...</td>\n",
       "      <td>1</td>\n",
       "      <td>1.0</td>\n",
       "    </tr>\n",
       "    <tr>\n",
       "      <th>119618</th>\n",
       "      <td>Quinny 2012 Buzz Stroller, Rebel Red</td>\n",
       "      <td>Choice - Quinny Buzz 2011 in \"Brown Boost\"To s...</td>\n",
       "      <td>4</td>\n",
       "      <td>Choice - Quinny Buzz 2011 in \"Brown Boost\"To s...</td>\n",
       "      <td>1</td>\n",
       "      <td>1.0</td>\n",
       "    </tr>\n",
       "    <tr>\n",
       "      <th>76549</th>\n",
       "      <td>Britax Advocate 65 CS Click &amp;amp; Safe Convert...</td>\n",
       "      <td>The Britax Advocate CS appears similar to the ...</td>\n",
       "      <td>4</td>\n",
       "      <td>The Britax Advocate CS appears similar to the ...</td>\n",
       "      <td>1</td>\n",
       "      <td>1.0</td>\n",
       "    </tr>\n",
       "    <tr>\n",
       "      <th>22586</th>\n",
       "      <td>Britax Decathlon Convertible Car Seat, Tiffany</td>\n",
       "      <td>I researched a few different seats to put in o...</td>\n",
       "      <td>4</td>\n",
       "      <td>I researched a few different seats to put in o...</td>\n",
       "      <td>1</td>\n",
       "      <td>1.0</td>\n",
       "    </tr>\n",
       "    <tr>\n",
       "      <th>88680</th>\n",
       "      <td>ERGObaby Original Baby Carrier, Galaxy Grey</td>\n",
       "      <td>After reading many online reviews, asking othe...</td>\n",
       "      <td>5</td>\n",
       "      <td>After reading many online reviews, asking othe...</td>\n",
       "      <td>1</td>\n",
       "      <td>1.0</td>\n",
       "    </tr>\n",
       "    <tr>\n",
       "      <th>172946</th>\n",
       "      <td>Spectra Baby USA S2 Hospital Grade Double/sing...</td>\n",
       "      <td>Long Review but worth the read for those who a...</td>\n",
       "      <td>5</td>\n",
       "      <td>Long Review but worth the read for those who a...</td>\n",
       "      <td>1</td>\n",
       "      <td>1.0</td>\n",
       "    </tr>\n",
       "    <tr>\n",
       "      <th>120774</th>\n",
       "      <td>BOB Revolution SE Duallie Stroller, Navy</td>\n",
       "      <td>I'll start with the seats: they have completel...</td>\n",
       "      <td>5</td>\n",
       "      <td>I'll start with the seats: they have completel...</td>\n",
       "      <td>1</td>\n",
       "      <td>1.0</td>\n",
       "    </tr>\n",
       "    <tr>\n",
       "      <th>143615</th>\n",
       "      <td>Carter's Child of Mine Baby's First Memory Boo...</td>\n",
       "      <td>I was a little nervous about ordering this bab...</td>\n",
       "      <td>5</td>\n",
       "      <td>I was a little nervous about ordering this bab...</td>\n",
       "      <td>1</td>\n",
       "      <td>1.0</td>\n",
       "    </tr>\n",
       "    <tr>\n",
       "      <th>54466</th>\n",
       "      <td>Playtex Drop-Ins System Breast Milk Storage Kit</td>\n",
       "      <td>Let me say here that Playtex does an INCREDIBL...</td>\n",
       "      <td>5</td>\n",
       "      <td>Let me say here that Playtex does an INCREDIBL...</td>\n",
       "      <td>1</td>\n",
       "      <td>1.0</td>\n",
       "    </tr>\n",
       "    <tr>\n",
       "      <th>22398</th>\n",
       "      <td>Boon Frog Pod Bath Toy Scoop,Green</td>\n",
       "      <td>First, let me say that we bought this product ...</td>\n",
       "      <td>5</td>\n",
       "      <td>First, let me say that we bought this product ...</td>\n",
       "      <td>1</td>\n",
       "      <td>1.0</td>\n",
       "    </tr>\n",
       "    <tr>\n",
       "      <th>40110</th>\n",
       "      <td>Chicco Cortina KeyFit 30 Travel System in Adve...</td>\n",
       "      <td>I am a mother of 4, I have been through MANY s...</td>\n",
       "      <td>5</td>\n",
       "      <td>I am a mother of 4, I have been through MANY s...</td>\n",
       "      <td>1</td>\n",
       "      <td>1.0</td>\n",
       "    </tr>\n",
       "  </tbody>\n",
       "</table>\n",
       "</div>"
      ],
      "text/plain": [
       "                                                     name  \\\n",
       "168086  Buttons Cloth Diaper Cover - One Size - 8 Colo...   \n",
       "88659         ERGObaby Original Baby Carrier, Galaxy Grey   \n",
       "109197  Britax Boulevard 70 Convertible Car Seat (Prev...   \n",
       "147975  Baby Jogger City Mini GT Single Stroller, Shad...   \n",
       "94921    Baby Jogger Summit XC Single Stroller, Red/Black   \n",
       "140780        Diono RadianR100 Convertible Car Seat, Dune   \n",
       "69511           Joovy Ergo Caboose Tandem Stroller, Black   \n",
       "116083           Joovy Ergo Caboose Tandem Stroller Black   \n",
       "109122  Britax Marathon 70 Convertible Car Seat (Previ...   \n",
       "106455           Quinny Senzz 2011 Fashion Stroller, Star   \n",
       "119618               Quinny 2012 Buzz Stroller, Rebel Red   \n",
       "76549   Britax Advocate 65 CS Click &amp; Safe Convert...   \n",
       "22586      Britax Decathlon Convertible Car Seat, Tiffany   \n",
       "88680         ERGObaby Original Baby Carrier, Galaxy Grey   \n",
       "172946  Spectra Baby USA S2 Hospital Grade Double/sing...   \n",
       "120774           BOB Revolution SE Duallie Stroller, Navy   \n",
       "143615  Carter's Child of Mine Baby's First Memory Boo...   \n",
       "54466     Playtex Drop-Ins System Breast Milk Storage Kit   \n",
       "22398                  Boon Frog Pod Bath Toy Scoop,Green   \n",
       "40110   Chicco Cortina KeyFit 30 Travel System in Adve...   \n",
       "\n",
       "                                                   review  rating  \\\n",
       "168086  Buttons vs. Best Bottoms reviewFirst thing I w...       5   \n",
       "88659   We purchased this carrier after a recommendati...       5   \n",
       "109197  A little background on me: I have three kids (...       5   \n",
       "147975  Let me start by saying that I have gone throug...       5   \n",
       "94921   EDIT 10/1//2011:  Just wanted to add that I ha...       5   \n",
       "140780  i bought this when the seat was owned by Sunsh...       5   \n",
       "69511   I've had this stroller for a little more than ...       5   \n",
       "116083  I've had this stroller for a little more than ...       5   \n",
       "109122  I have been using this version of the Britax M...       5   \n",
       "106455  I am very pleased overall with the Quinny Senz...       4   \n",
       "119618  Choice - Quinny Buzz 2011 in \"Brown Boost\"To s...       4   \n",
       "76549   The Britax Advocate CS appears similar to the ...       4   \n",
       "22586   I researched a few different seats to put in o...       4   \n",
       "88680   After reading many online reviews, asking othe...       5   \n",
       "172946  Long Review but worth the read for those who a...       5   \n",
       "120774  I'll start with the seats: they have completel...       5   \n",
       "143615  I was a little nervous about ordering this bab...       5   \n",
       "54466   Let me say here that Playtex does an INCREDIBL...       5   \n",
       "22398   First, let me say that we bought this product ...       5   \n",
       "40110   I am a mother of 4, I have been through MANY s...       5   \n",
       "\n",
       "                                             review_clean  sentiment  \\\n",
       "168086  Buttons vs. Best Bottoms reviewFirst thing I w...          1   \n",
       "88659   We purchased this carrier after a recommendati...          1   \n",
       "109197  A little background on me: I have three kids (...          1   \n",
       "147975  Let me start by saying that I have gone throug...          1   \n",
       "94921   EDIT 10/1//2011:  Just wanted to add that I ha...          1   \n",
       "140780  i bought this when the seat was owned by Sunsh...          1   \n",
       "69511   I've had this stroller for a little more than ...          1   \n",
       "116083  I've had this stroller for a little more than ...          1   \n",
       "109122  I have been using this version of the Britax M...          1   \n",
       "106455  I am very pleased overall with the Quinny Senz...          1   \n",
       "119618  Choice - Quinny Buzz 2011 in \"Brown Boost\"To s...          1   \n",
       "76549   The Britax Advocate CS appears similar to the ...          1   \n",
       "22586   I researched a few different seats to put in o...          1   \n",
       "88680   After reading many online reviews, asking othe...          1   \n",
       "172946  Long Review but worth the read for those who a...          1   \n",
       "120774  I'll start with the seats: they have completel...          1   \n",
       "143615  I was a little nervous about ordering this bab...          1   \n",
       "54466   Let me say here that Playtex does an INCREDIBL...          1   \n",
       "22398   First, let me say that we bought this product ...          1   \n",
       "40110   I am a mother of 4, I have been through MANY s...          1   \n",
       "\n",
       "        probability  \n",
       "168086          1.0  \n",
       "88659           1.0  \n",
       "109197          1.0  \n",
       "147975          1.0  \n",
       "94921           1.0  \n",
       "140780          1.0  \n",
       "69511           1.0  \n",
       "116083          1.0  \n",
       "109122          1.0  \n",
       "106455          1.0  \n",
       "119618          1.0  \n",
       "76549           1.0  \n",
       "22586           1.0  \n",
       "88680           1.0  \n",
       "172946          1.0  \n",
       "120774          1.0  \n",
       "143615          1.0  \n",
       "54466           1.0  \n",
       "22398           1.0  \n",
       "40110           1.0  "
      ]
     },
     "execution_count": 25,
     "metadata": {},
     "output_type": "execute_result"
    }
   ],
   "source": [
    "test_data1=test_data.copy()\n",
    "test_data1.sort_values(by=['probability'], inplace=True,ascending=False)\n",
    "test_data1.head(20)"
   ]
  },
  {
   "cell_type": "code",
   "execution_count": 26,
   "metadata": {},
   "outputs": [
    {
     "data": {
      "text/html": [
       "<div>\n",
       "<style scoped>\n",
       "    .dataframe tbody tr th:only-of-type {\n",
       "        vertical-align: middle;\n",
       "    }\n",
       "\n",
       "    .dataframe tbody tr th {\n",
       "        vertical-align: top;\n",
       "    }\n",
       "\n",
       "    .dataframe thead th {\n",
       "        text-align: right;\n",
       "    }\n",
       "</style>\n",
       "<table border=\"1\" class=\"dataframe\">\n",
       "  <thead>\n",
       "    <tr style=\"text-align: right;\">\n",
       "      <th></th>\n",
       "      <th>name</th>\n",
       "      <th>review</th>\n",
       "      <th>rating</th>\n",
       "      <th>review_clean</th>\n",
       "      <th>sentiment</th>\n",
       "      <th>probability</th>\n",
       "    </tr>\n",
       "  </thead>\n",
       "  <tbody>\n",
       "    <tr>\n",
       "      <th>147902</th>\n",
       "      <td>Graco Pack 'n Play Playard - Dempsey</td>\n",
       "      <td>My disappointment with this product prompted m...</td>\n",
       "      <td>1</td>\n",
       "      <td>My disappointment with this product prompted m...</td>\n",
       "      <td>-1</td>\n",
       "      <td>1.267692e-20</td>\n",
       "    </tr>\n",
       "    <tr>\n",
       "      <th>175191</th>\n",
       "      <td>Zooper Twist Escape Stroller, Summer Day</td>\n",
       "      <td>I had to return this stroller for three reason...</td>\n",
       "      <td>1</td>\n",
       "      <td>I had to return this stroller for three reason...</td>\n",
       "      <td>-1</td>\n",
       "      <td>5.759905e-19</td>\n",
       "    </tr>\n",
       "    <tr>\n",
       "      <th>27310</th>\n",
       "      <td>Evenflo Expressions Plus High Chair - 3's Company</td>\n",
       "      <td>PLEASE HEED THE OTHER REVIEWERS WARNINGS ON TH...</td>\n",
       "      <td>1</td>\n",
       "      <td>PLEASE HEED THE OTHER REVIEWERS WARNINGS ON TH...</td>\n",
       "      <td>-1</td>\n",
       "      <td>1.342250e-13</td>\n",
       "    </tr>\n",
       "    <tr>\n",
       "      <th>68194</th>\n",
       "      <td>Evenflo Crosstown Soft Portable Travel Gate</td>\n",
       "      <td>I'm sure that this product passed all the form...</td>\n",
       "      <td>1</td>\n",
       "      <td>I'm sure that this product passed all the form...</td>\n",
       "      <td>-1</td>\n",
       "      <td>3.060661e-12</td>\n",
       "    </tr>\n",
       "    <tr>\n",
       "      <th>111536</th>\n",
       "      <td>ERGO Baby Carrier - Performance Grey</td>\n",
       "      <td>I got this because my 10 month was pushing the...</td>\n",
       "      <td>1</td>\n",
       "      <td>I got this because my 10 month was pushing the...</td>\n",
       "      <td>-1</td>\n",
       "      <td>8.209260e-12</td>\n",
       "    </tr>\n",
       "    <tr>\n",
       "      <th>41581</th>\n",
       "      <td>Newborn Baby Pea in The Pod Halloween Costume,...</td>\n",
       "      <td>Looks really cute, however, the cloth smells f...</td>\n",
       "      <td>1</td>\n",
       "      <td>Looks really cute, however, the cloth smells f...</td>\n",
       "      <td>-1</td>\n",
       "      <td>1.014314e-11</td>\n",
       "    </tr>\n",
       "    <tr>\n",
       "      <th>178360</th>\n",
       "      <td>iPad Travel Case</td>\n",
       "      <td>I have rated and left reviews for many items o...</td>\n",
       "      <td>1</td>\n",
       "      <td>I have rated and left reviews for many items o...</td>\n",
       "      <td>-1</td>\n",
       "      <td>1.649664e-11</td>\n",
       "    </tr>\n",
       "    <tr>\n",
       "      <th>75995</th>\n",
       "      <td>Peg-Perego Tatamia High Chair, White Latte</td>\n",
       "      <td>Edited to Add 6/4/2010:  Just wanted to add th...</td>\n",
       "      <td>1</td>\n",
       "      <td>Edited to Add 6/4/2010:  Just wanted to add th...</td>\n",
       "      <td>-1</td>\n",
       "      <td>4.988625e-11</td>\n",
       "    </tr>\n",
       "    <tr>\n",
       "      <th>59062</th>\n",
       "      <td>Peg Perego Primo Viaggio Infant Car Seat, Kiwi</td>\n",
       "      <td>WARNING to all owners newer model Peg Perego S...</td>\n",
       "      <td>1</td>\n",
       "      <td>WARNING to all owners newer model Peg Perego S...</td>\n",
       "      <td>-1</td>\n",
       "      <td>2.577857e-10</td>\n",
       "    </tr>\n",
       "    <tr>\n",
       "      <th>127472</th>\n",
       "      <td>Argington Organic Bam Bam Crib Complete, Ebony</td>\n",
       "      <td>Please do not buy this crib. I so wanted to lo...</td>\n",
       "      <td>1</td>\n",
       "      <td>Please do not buy this crib. I so wanted to lo...</td>\n",
       "      <td>-1</td>\n",
       "      <td>5.730416e-10</td>\n",
       "    </tr>\n",
       "    <tr>\n",
       "      <th>157207</th>\n",
       "      <td>Fisher-Price Luv U Zoo Deluxe Auto Mirror Soun...</td>\n",
       "      <td>I really wanted to like this item. It's made b...</td>\n",
       "      <td>2</td>\n",
       "      <td>I really wanted to like this item. It's made b...</td>\n",
       "      <td>-1</td>\n",
       "      <td>6.215263e-10</td>\n",
       "    </tr>\n",
       "    <tr>\n",
       "      <th>127473</th>\n",
       "      <td>Argington Organic Bam Bam Crib Complete, Ebony</td>\n",
       "      <td>What a disappointment! After researching for c...</td>\n",
       "      <td>1</td>\n",
       "      <td>What a disappointment! After researching for c...</td>\n",
       "      <td>-1</td>\n",
       "      <td>7.903564e-10</td>\n",
       "    </tr>\n",
       "    <tr>\n",
       "      <th>134861</th>\n",
       "      <td>Infant Optics DXR-5 2.4 GHz Digital Video Baby...</td>\n",
       "      <td>This was a highly researched purchase, and I w...</td>\n",
       "      <td>1</td>\n",
       "      <td>This was a highly researched purchase, and I w...</td>\n",
       "      <td>-1</td>\n",
       "      <td>1.823293e-09</td>\n",
       "    </tr>\n",
       "    <tr>\n",
       "      <th>158261</th>\n",
       "      <td>BabyPing Secure Wi-Fi Baby Monitor for iPhone,...</td>\n",
       "      <td>This monitor was given to us as a gift while w...</td>\n",
       "      <td>1</td>\n",
       "      <td>This monitor was given to us as a gift while w...</td>\n",
       "      <td>-1</td>\n",
       "      <td>2.825488e-09</td>\n",
       "    </tr>\n",
       "    <tr>\n",
       "      <th>18319</th>\n",
       "      <td>Harmony High Chair - Windsor</td>\n",
       "      <td>I had seen this high chair on display at Babie...</td>\n",
       "      <td>1</td>\n",
       "      <td>I had seen this high chair on display at Babie...</td>\n",
       "      <td>-1</td>\n",
       "      <td>3.421031e-09</td>\n",
       "    </tr>\n",
       "    <tr>\n",
       "      <th>160876</th>\n",
       "      <td>Baby Boom MVP Nap Mat, Blue</td>\n",
       "      <td>The description did not mention that the botto...</td>\n",
       "      <td>2</td>\n",
       "      <td>The description did not mention that the botto...</td>\n",
       "      <td>-1</td>\n",
       "      <td>6.427591e-09</td>\n",
       "    </tr>\n",
       "    <tr>\n",
       "      <th>94389</th>\n",
       "      <td>Snuza Portable Baby Movement Monitor</td>\n",
       "      <td>I would have given the product 4 stars for whi...</td>\n",
       "      <td>1</td>\n",
       "      <td>I would have given the product 4 stars for whi...</td>\n",
       "      <td>-1</td>\n",
       "      <td>7.858943e-09</td>\n",
       "    </tr>\n",
       "    <tr>\n",
       "      <th>176046</th>\n",
       "      <td>Baby Trend Inertia Infant Car Seat - Horizon</td>\n",
       "      <td>I really wanted to love this seat; however, I ...</td>\n",
       "      <td>1</td>\n",
       "      <td>I really wanted to love this seat; however, I ...</td>\n",
       "      <td>-1</td>\n",
       "      <td>1.381185e-08</td>\n",
       "    </tr>\n",
       "    <tr>\n",
       "      <th>56870</th>\n",
       "      <td>Medela Freestyle Breast Pump</td>\n",
       "      <td>Lets just say that Steve Jobs was not in the s...</td>\n",
       "      <td>1</td>\n",
       "      <td>Lets just say that Steve Jobs was not in the s...</td>\n",
       "      <td>-1</td>\n",
       "      <td>1.479429e-08</td>\n",
       "    </tr>\n",
       "    <tr>\n",
       "      <th>41111</th>\n",
       "      <td>Inglesina Twin Swift Stroller Blue</td>\n",
       "      <td>I actually bought the 2006 version of this str...</td>\n",
       "      <td>1</td>\n",
       "      <td>I actually bought the 2006 version of this str...</td>\n",
       "      <td>-1</td>\n",
       "      <td>1.779677e-08</td>\n",
       "    </tr>\n",
       "  </tbody>\n",
       "</table>\n",
       "</div>"
      ],
      "text/plain": [
       "                                                     name  \\\n",
       "147902               Graco Pack 'n Play Playard - Dempsey   \n",
       "175191           Zooper Twist Escape Stroller, Summer Day   \n",
       "27310   Evenflo Expressions Plus High Chair - 3's Company   \n",
       "68194         Evenflo Crosstown Soft Portable Travel Gate   \n",
       "111536               ERGO Baby Carrier - Performance Grey   \n",
       "41581   Newborn Baby Pea in The Pod Halloween Costume,...   \n",
       "178360                                   iPad Travel Case   \n",
       "75995          Peg-Perego Tatamia High Chair, White Latte   \n",
       "59062      Peg Perego Primo Viaggio Infant Car Seat, Kiwi   \n",
       "127472     Argington Organic Bam Bam Crib Complete, Ebony   \n",
       "157207  Fisher-Price Luv U Zoo Deluxe Auto Mirror Soun...   \n",
       "127473     Argington Organic Bam Bam Crib Complete, Ebony   \n",
       "134861  Infant Optics DXR-5 2.4 GHz Digital Video Baby...   \n",
       "158261  BabyPing Secure Wi-Fi Baby Monitor for iPhone,...   \n",
       "18319                        Harmony High Chair - Windsor   \n",
       "160876                        Baby Boom MVP Nap Mat, Blue   \n",
       "94389                Snuza Portable Baby Movement Monitor   \n",
       "176046       Baby Trend Inertia Infant Car Seat - Horizon   \n",
       "56870                        Medela Freestyle Breast Pump   \n",
       "41111                  Inglesina Twin Swift Stroller Blue   \n",
       "\n",
       "                                                   review  rating  \\\n",
       "147902  My disappointment with this product prompted m...       1   \n",
       "175191  I had to return this stroller for three reason...       1   \n",
       "27310   PLEASE HEED THE OTHER REVIEWERS WARNINGS ON TH...       1   \n",
       "68194   I'm sure that this product passed all the form...       1   \n",
       "111536  I got this because my 10 month was pushing the...       1   \n",
       "41581   Looks really cute, however, the cloth smells f...       1   \n",
       "178360  I have rated and left reviews for many items o...       1   \n",
       "75995   Edited to Add 6/4/2010:  Just wanted to add th...       1   \n",
       "59062   WARNING to all owners newer model Peg Perego S...       1   \n",
       "127472  Please do not buy this crib. I so wanted to lo...       1   \n",
       "157207  I really wanted to like this item. It's made b...       2   \n",
       "127473  What a disappointment! After researching for c...       1   \n",
       "134861  This was a highly researched purchase, and I w...       1   \n",
       "158261  This monitor was given to us as a gift while w...       1   \n",
       "18319   I had seen this high chair on display at Babie...       1   \n",
       "160876  The description did not mention that the botto...       2   \n",
       "94389   I would have given the product 4 stars for whi...       1   \n",
       "176046  I really wanted to love this seat; however, I ...       1   \n",
       "56870   Lets just say that Steve Jobs was not in the s...       1   \n",
       "41111   I actually bought the 2006 version of this str...       1   \n",
       "\n",
       "                                             review_clean  sentiment  \\\n",
       "147902  My disappointment with this product prompted m...         -1   \n",
       "175191  I had to return this stroller for three reason...         -1   \n",
       "27310   PLEASE HEED THE OTHER REVIEWERS WARNINGS ON TH...         -1   \n",
       "68194   I'm sure that this product passed all the form...         -1   \n",
       "111536  I got this because my 10 month was pushing the...         -1   \n",
       "41581   Looks really cute, however, the cloth smells f...         -1   \n",
       "178360  I have rated and left reviews for many items o...         -1   \n",
       "75995   Edited to Add 6/4/2010:  Just wanted to add th...         -1   \n",
       "59062   WARNING to all owners newer model Peg Perego S...         -1   \n",
       "127472  Please do not buy this crib. I so wanted to lo...         -1   \n",
       "157207  I really wanted to like this item. It's made b...         -1   \n",
       "127473  What a disappointment! After researching for c...         -1   \n",
       "134861  This was a highly researched purchase, and I w...         -1   \n",
       "158261  This monitor was given to us as a gift while w...         -1   \n",
       "18319   I had seen this high chair on display at Babie...         -1   \n",
       "160876  The description did not mention that the botto...         -1   \n",
       "94389   I would have given the product 4 stars for whi...         -1   \n",
       "176046  I really wanted to love this seat; however, I ...         -1   \n",
       "56870   Lets just say that Steve Jobs was not in the s...         -1   \n",
       "41111   I actually bought the 2006 version of this str...         -1   \n",
       "\n",
       "         probability  \n",
       "147902  1.267692e-20  \n",
       "175191  5.759905e-19  \n",
       "27310   1.342250e-13  \n",
       "68194   3.060661e-12  \n",
       "111536  8.209260e-12  \n",
       "41581   1.014314e-11  \n",
       "178360  1.649664e-11  \n",
       "75995   4.988625e-11  \n",
       "59062   2.577857e-10  \n",
       "127472  5.730416e-10  \n",
       "157207  6.215263e-10  \n",
       "127473  7.903564e-10  \n",
       "134861  1.823293e-09  \n",
       "158261  2.825488e-09  \n",
       "18319   3.421031e-09  \n",
       "160876  6.427591e-09  \n",
       "94389   7.858943e-09  \n",
       "176046  1.381185e-08  \n",
       "56870   1.479429e-08  \n",
       "41111   1.779677e-08  "
      ]
     },
     "execution_count": 26,
     "metadata": {},
     "output_type": "execute_result"
    }
   ],
   "source": [
    "test_data1.sort_values(by=['probability'], inplace=True)\n",
    "test_data1.head(20)"
   ]
  },
  {
   "cell_type": "code",
   "execution_count": 39,
   "metadata": {},
   "outputs": [
    {
     "name": "stdout",
     "output_type": "stream",
     "text": [
      "1     1\n",
      "5     1\n",
      "10    1\n",
      "15    1\n",
      "26    1\n",
      "Name: sentiment, dtype: int64\n",
      "[1 1 1 ... 1 1 1]\n"
     ]
    }
   ],
   "source": [
    "print(test_data['sentiment'].head())\n",
    "print(sentiment_model.predict(test_matrix))"
   ]
  },
  {
   "cell_type": "code",
   "execution_count": 57,
   "metadata": {},
   "outputs": [
    {
     "data": {
      "text/plain": [
       "(33350,)"
      ]
     },
     "execution_count": 57,
     "metadata": {},
     "output_type": "execute_result"
    }
   ],
   "source": [
    "pred=sentiment_model.predict(test_matrix)\n",
    "pred.shape"
   ]
  },
  {
   "cell_type": "code",
   "execution_count": 55,
   "metadata": {},
   "outputs": [
    {
     "data": {
      "text/plain": [
       "(33350,)"
      ]
     },
     "execution_count": 55,
     "metadata": {},
     "output_type": "execute_result"
    }
   ],
   "source": [
    "actual=test_data['sentiment'].values\n",
    "actual.shape"
   ]
  },
  {
   "cell_type": "code",
   "execution_count": 62,
   "metadata": {},
   "outputs": [],
   "source": [
    "num_correct = sum(pred == actual)\n",
    "accuracy = num_correct/test_matrix.shape[0]\n"
   ]
  },
  {
   "cell_type": "code",
   "execution_count": 63,
   "metadata": {},
   "outputs": [
    {
     "data": {
      "text/plain": [
       "0.9295652173913044"
      ]
     },
     "execution_count": 63,
     "metadata": {},
     "output_type": "execute_result"
    }
   ],
   "source": [
    "accuracy"
   ]
  },
  {
   "cell_type": "code",
   "execution_count": null,
   "metadata": {},
   "outputs": [],
   "source": []
  }
 ],
 "metadata": {
  "kernelspec": {
   "display_name": "Python 3",
   "language": "python",
   "name": "python3"
  },
  "language_info": {
   "codemirror_mode": {
    "name": "ipython",
    "version": 3
   },
   "file_extension": ".py",
   "mimetype": "text/x-python",
   "name": "python",
   "nbconvert_exporter": "python",
   "pygments_lexer": "ipython3",
   "version": "3.7.6"
  }
 },
 "nbformat": 4,
 "nbformat_minor": 4
}
